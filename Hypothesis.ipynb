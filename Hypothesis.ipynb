{
 "cells": [
  {
   "attachments": {},
   "cell_type": "markdown",
   "metadata": {},
   "source": [
    "### HYPOTHESIS ON THE YOUTH UNEMPLOYMENT DATASET\n"
   ]
  },
  {
   "attachments": {},
   "cell_type": "markdown",
   "metadata": {},
   "source": [
    " We shall perform this hypothesis by selecting a null hypothesis and an alternative hypothesis, defining a test statistic and selecting a significance level, and using statistical methods to determine whether the null hypothesis can be rejected or not. The goal of hypothesis testing is to determine if there is evidence in the data to support the alternative hypothesis or if the null hypothesis is the best explanation for the data."
   ]
  },
  {
   "attachments": {},
   "cell_type": "markdown",
   "metadata": {},
   "source": [
    "Here is a general outline of the steps we are going to follow to perform hypothesis testing:\n",
    "\n",
    "1.Formulate the null and alternative hypotheses.  \n",
    "\n",
    "2.Choose a significance level (e.g., significant_level = 0.05).  \n",
    "\n",
    "3.Clean and prepare the data for analysis.  \n",
    "\n",
    "4.Calculate the test statistic (e.g., t-statistic, z-score, p-value).  \n",
    "\n",
    "5.Compare the test statistic to the critical value(s) determined by the chosen significance level and the type of test being performed.  \n",
    "\n",
    "6.Make a conclusion based on the comparison of the test statistic to the critical value(s).  \n",
    "\n",
    "7.Report the results, including the conclusion, the test statistic, the p-value, and any relevant plots or tables."
   ]
  },
  {
   "cell_type": "code",
   "execution_count": 31,
   "metadata": {},
   "outputs": [],
   "source": [
    "# Import the necessary libraries\n",
    "import pandas as pd\n",
    "import scipy.stats as stats\n",
    "import matplotlib.pyplot as plt"
   ]
  },
  {
   "cell_type": "code",
   "execution_count": 32,
   "metadata": {},
   "outputs": [],
   "source": [
    "# Load the .csv file into a Pandas DataFrame\n",
    "df = pd.read_csv('Youth-Unemployment-Rates.csv')"
   ]
  },
  {
   "attachments": {},
   "cell_type": "markdown",
   "metadata": {},
   "source": [
    "#### CLEANING THE DATASET\n"
   ]
  },
  {
   "cell_type": "code",
   "execution_count": 36,
   "metadata": {},
   "outputs": [],
   "source": [
    "# # Clean the dataset\n",
    "# df = df.dropna(how='all')\n",
    "# ##df = df.drop(['Country Name'], axis=1)\n",
    "# df = df.drop(['Indicator Name', 'Indicator Code'], axis=1)\n",
    "# ##df = df.set_index('Country Code')\n",
    "# df = df.transpose()\n",
    "# df.index = pd.to_datetime(df.index, format='%Y')"
   ]
  },
  {
   "cell_type": "code",
   "execution_count": 37,
   "metadata": {},
   "outputs": [],
   "source": [
    "# #Visualising the cleaned data\n",
    "# # Plot the average youth unemployment rate for each year\n",
    "# average_unemployment_rates = df.mean()\n",
    "# plt.plot(average_unemployment_rates)\n",
    "# plt.xlabel(\"Year\")\n",
    "# plt.ylabel(\"Average Youth Unemployment Rate\")\n",
    "# plt.title(\"Average Youth Unemployment Rate Over Time\")\n",
    "# plt.show()"
   ]
  },
  {
   "attachments": {},
   "cell_type": "markdown",
   "metadata": {},
   "source": [
    "#### TESTS ON THE DATASET"
   ]
  },
  {
   "attachments": {},
   "cell_type": "markdown",
   "metadata": {},
   "source": [
    " Test 1: One-sample t-test  \n",
    " H0: The mean youth unemployment rate for all countries is 25  \n",
    " Ha: The mean youth unemployment rate for all countries is not 25"
   ]
  },
  {
   "cell_type": "code",
   "execution_count": 6,
   "metadata": {},
   "outputs": [
    {
     "name": "stdout",
     "output_type": "stream",
     "text": [
      "Test 1: One-sample t-test\n",
      "Mean youth unemployment rate:  17.943538862711417\n",
      "t-statistic:  -9.037562178374912\n",
      "p-value:  8.827187151673438e-17\n",
      "We reject the null hypothesis.\n"
     ]
    }
   ],
   "source": [
    "# Calculate the mean youth unemployment rate for all countries\n",
    "mean_rate = df['2014'].mean()\n",
    "\n",
    "# Perform a one-sample t-test\n",
    "t_stat, p_value = stats.ttest_1samp(df['2014'], 25)\n",
    "\n",
    "# Print the results\n",
    "print(\"Test 1: One-sample t-test\")\n",
    "print(\"Mean youth unemployment rate: \", mean_rate)\n",
    "print(\"t-statistic: \", t_stat)\n",
    "print(\"p-value: \", p_value)\n",
    "\n",
    "# Check if the p-value is less than the significance level (alpha = 0.05)\n",
    "if p_value < 0.05:\n",
    "    print(\"We reject the null hypothesis.\")\n",
    "else:\n",
    "    print(\"We fail to reject the null hypothesis.\")\n"
   ]
  },
  {
   "attachments": {},
   "cell_type": "markdown",
   "metadata": {},
   "source": [
    " Test 2: Two-sample t-test  \n",
    " H0: The mean youth unemployment rate for two regions (Africa and Europe) are equal  \n",
    " Ha: The mean youth unemployment rate for two regions (Africa and Europe) are not equal\n"
   ]
  },
  {
   "cell_type": "code",
   "execution_count": 7,
   "metadata": {},
   "outputs": [
    {
     "name": "stdout",
     "output_type": "stream",
     "text": [
      "\n",
      "Test 2: Two-sample t-test\n",
      "Mean youth unemployment rate (Africa):  19.25045674003\n",
      "Mean youth unemployment rate (Europe):  21.09621831502308\n",
      "t-statistic:  -0.34957485211574774\n",
      "p-value:  0.7301390750163967\n",
      "We fail to reject the null hypothesis.\n"
     ]
    }
   ],
   "source": [
    "# Select the countries from each region\n",
    "africa = df[df['Country Code'].str.startswith('A')]['2014']\n",
    "europe = df[df['Country Code'].str.startswith('E')]['2014']\n",
    "\n",
    "# Perform a two-sample t-test\n",
    "t_stat, p_value = stats.ttest_ind(africa, europe)\n",
    "\n",
    "# Print the results\n",
    "print(\"\\nTest 2: Two-sample t-test\")\n",
    "print(\"Mean youth unemployment rate (Africa): \", africa.mean())\n",
    "print(\"Mean youth unemployment rate (Europe): \", europe.mean())\n",
    "print(\"t-statistic: \", t_stat)\n",
    "print(\"p-value: \", p_value)\n",
    "\n",
    "# Check if the p-value is less than the significance level (alpha = 0.05)\n",
    "if p_value < 0.05:\n",
    "    print(\"We reject the null hypothesis.\")\n",
    "else:\n",
    "    print(\"We fail to reject the null hypothesis.\")"
   ]
  },
  {
   "attachments": {},
   "cell_type": "markdown",
   "metadata": {},
   "source": [
    " Test 3: Paired t-test  \n",
    " H0: The mean difference in youth unemployment rates between 2010 and 2014 is 0  \n",
    " Ha: The mean difference in youth unemployment rates between 2010 and 2014 is not 0\n"
   ]
  },
  {
   "cell_type": "code",
   "execution_count": 8,
   "metadata": {},
   "outputs": [
    {
     "name": "stdout",
     "output_type": "stream",
     "text": [
      "\n",
      "Test 3: Paired t-test\n",
      "Mean difference in youth unemployment rates:  0.05058147225159817\n",
      "t-statistic:  0.1759058198412735\n",
      "p-value:  0.8605312244414808\n",
      "We fail to reject the null hypothesis.\n"
     ]
    }
   ],
   "source": [
    "# Calculate the difference in youth unemployment rates between 2010 and 2014\n",
    "difference = df['2014'] - df['2010']\n",
    "\n",
    "# Perform a paired t-test\n",
    "t_stat, p_value = stats.ttest_rel(df['2014'], df['2010'])\n",
    "\n",
    "# Print the results\n",
    "print(\"\\nTest 3: Paired t-test\")\n",
    "print(\"Mean difference in youth unemployment rates: \", difference.mean())\n",
    "print(\"t-statistic: \", t_stat)\n",
    "print(\"p-value: \", p_value)\n",
    "\n",
    "# Check if the p-value is less than the significance level (alpha = 0.05)\n",
    "if p_value < 0.05:\n",
    "    print(\"We reject the null hypothesis.\")\n",
    "else:\n",
    "    print(\"We fail to reject the null hypothesis.\")"
   ]
  },
  {
   "attachments": {},
   "cell_type": "markdown",
   "metadata": {},
   "source": [
    " Test 4: ANOVA TEST  \n",
    " H0: The mean youth unemployment rates among multiple regions (Africa, Europe, and Asia) are equal  \n",
    " Ha: The mean youth unemployment rates among multiple regions (Africa, Europe, and Asia) are not equal"
   ]
  },
  {
   "cell_type": "code",
   "execution_count": 12,
   "metadata": {},
   "outputs": [
    {
     "name": "stdout",
     "output_type": "stream",
     "text": [
      "\n",
      "Test 4: ANOVA\n",
      "Mean youth unemployment rate (Africa):  19.25045674003\n",
      "Mean youth unemployment rate (Europe):  21.09621831502308\n",
      "Mean youth unemployment rate (Asia):  17.667753088970407\n",
      "F-statistic:  0.6014895988343368\n",
      "p-value:  0.5489099703171247\n",
      "We have failed to reject the null hypothesis.\n"
     ]
    }
   ],
   "source": [
    "# Select the countries from each region\n",
    "africa = df[df['Country Code'].str.startswith('A')]['2014']\n",
    "europe = df[df['Country Code'].str.startswith('E')]['2014']\n",
    "asia = df.loc[(df['Country Code'].str.startswith('A') == False) & (df['Country Code'].str.startswith('E') == False), '2014']\n",
    "\n",
    "\n",
    "# Perform an ANOVA test\n",
    "f_stat, p_value = stats.f_oneway(africa, europe, asia)\n",
    "\n",
    "# Print the results\n",
    "print(\"\\nTest 4: ANOVA\")\n",
    "print(\"Mean youth unemployment rate (Africa): \", africa.mean())\n",
    "print(\"Mean youth unemployment rate (Europe): \", europe.mean())\n",
    "print(\"Mean youth unemployment rate (Asia): \", asia.mean())\n",
    "print(\"F-statistic: \", f_stat)\n",
    "print(\"p-value: \", p_value)\n",
    "\n",
    "# Check if the p-value is less than the significance level (alpha = 0.05)\n",
    "if p_value < 0.05:\n",
    "    print(\"We have rejected the null hypothesis.\")\n",
    "else:\n",
    "    print(\"We have failed to reject the null hypothesis.\")"
   ]
  },
  {
   "attachments": {},
   "cell_type": "markdown",
   "metadata": {},
   "source": [
    " Test 5: Chi-square test for independence  \n",
    " H0: There is no association between the region and the level of youth unemployment rate (high or low)  \n",
    " Ha: There is an association between the region and the level of youth unemployment rate (high or low)  "
   ]
  },
  {
   "cell_type": "code",
   "execution_count": 13,
   "metadata": {},
   "outputs": [
    {
     "name": "stdout",
     "output_type": "stream",
     "text": [
      "\n",
      "Test 5: Chi-square test for independence\n",
      "Contingency table:\n",
      " Country Code  A   B   C  D  E  F  G  H  I  J  ...  P  Q  R   S   T  U  V  W  \\\n",
      "Level                                         ...                             \n",
      "High          5   7   6  2  5  3  4  2  5  2  ...  4  0  1   9   4  2  0  0   \n",
      "Low           5  10  12  2  8  1  7  5  8  1  ...  9  1  2  10  12  4  2  1   \n",
      "\n",
      "Country Code  Y  Z  \n",
      "Level               \n",
      "High          1  2  \n",
      "Low           0  1  \n",
      "\n",
      "[2 rows x 25 columns]\n",
      "Chi-square statistic:  17.503405665599427\n",
      "p-value:  0.826412978807984\n",
      "We fail to reject the null hypothesis.\n"
     ]
    }
   ],
   "source": [
    "# Create a new column to indicate the level of youth unemployment rate (high or low)\n",
    "df['Level'] = ['High' if x > df['2014'].mean() else 'Low' for x in df['2014']]\n",
    "\n",
    "# Create a contingency table to store the counts of each level of youth unemployment rate for each region\n",
    "table = pd.crosstab(df['Level'], df['Country Code'].str[0])\n",
    "\n",
    "# Perform a chi-square test for independence\n",
    "chi2_stat, p_value, dof, expected = stats.chi2_contingency(table)\n",
    "\n",
    "# Print the results\n",
    "print(\"\\nTest 5: Chi-square test for independence\")\n",
    "print(\"Contingency table:\\n\", table)\n",
    "print(\"Chi-square statistic: \", chi2_stat)\n",
    "print(\"p-value: \", p_value)\n",
    "\n",
    "# Check if the p-value is less than the significance level (alpha = 0.05)\n",
    "if p_value < 0.05:\n",
    "    print(\"We reject the null hypothesis.\")\n",
    "else:\n",
    "    print(\"We fail to reject the null hypothesis.\")"
   ]
  },
  {
   "attachments": {},
   "cell_type": "markdown",
   "metadata": {},
   "source": [
    " Test 6: Correlation test  \n",
    " H0: There is no linear relationship between the youth unemployment rate in 2010 and 2014  \n",
    " Ha: There is a linear relationship between the youth unemployment rate in 2010 and 2014"
   ]
  },
  {
   "cell_type": "code",
   "execution_count": 14,
   "metadata": {},
   "outputs": [
    {
     "name": "stdout",
     "output_type": "stream",
     "text": [
      "\n",
      "Test 6: Correlation test\n",
      "Correlation coefficient (r):  0.9298840676235003\n",
      "p-value:  3.2788543872437704e-96\n",
      "We reject the null hypothesis.\n"
     ]
    }
   ],
   "source": [
    "# Perform a correlation test\n",
    "r, p_value = stats.pearsonr(df['2010'], df['2014'])\n",
    "\n",
    "# Print the results\n",
    "print(\"\\nTest 6: Correlation test\")\n",
    "print(\"Correlation coefficient (r): \", r)\n",
    "print(\"p-value: \", p_value)\n",
    "\n",
    "# Check if the p-value is less than the significance level (alpha = 0.05)\n",
    "if p_value < 0.05:\n",
    "    print(\"We reject the null hypothesis.\")\n",
    "else:\n",
    "    print(\"We fail to reject the null hypothesis.\")"
   ]
  },
  {
   "attachments": {},
   "cell_type": "markdown",
   "metadata": {},
   "source": [
    "Test 7: Linear regression(My most favorite test)  \n",
    "H0: The youth unemployment rate in 2014 does not depend on the youth unemployment rate in 2010  \n",
    "Ha: The youth unemployment rate in 2014 depends on the youth unemployment rate in 2010  "
   ]
  },
  {
   "cell_type": "code",
   "execution_count": 15,
   "metadata": {},
   "outputs": [
    {
     "name": "stdout",
     "output_type": "stream",
     "text": [
      "\n",
      "Test 7: Linear regression\n",
      "Slope:  1.0193934246147296\n",
      "Intercept:  -0.29642424803484957\n",
      "R-squared value:  0.8646843792200261\n",
      "p-value:  3.278854387244197e-96\n",
      "We reject the null hypothesis.\n"
     ]
    }
   ],
   "source": [
    "# Perform a linear regression\n",
    "slope, intercept, r_value, p_value, std_err = stats.linregress(df['2010'], df['2014'])\n",
    "\n",
    "# Print the results\n",
    "print(\"\\nTest 7: Linear regression\")\n",
    "print(\"Slope: \", slope)\n",
    "print(\"Intercept: \", intercept)\n",
    "print(\"R-squared value: \", r_value**2)\n",
    "print(\"p-value: \", p_value)\n",
    "\n",
    "# Check if the p-value is less than the significance level (alpha = 0.05)\n",
    "if p_value < 0.05:\n",
    "    print(\"We reject the null hypothesis.\")\n",
    "else:\n",
    "    print(\"We fail to reject the null hypothesis.\")"
   ]
  },
  {
   "attachments": {},
   "cell_type": "markdown",
   "metadata": {},
   "source": [
    "### VISUALISATIONS"
   ]
  },
  {
   "attachments": {},
   "cell_type": "markdown",
   "metadata": {},
   "source": [
    "#### 1.Histogram of the youth unemployment rate in 2010:  \n",
    "H0: The distribution of the youth unemployment rate in 2010 is normal.  \n",
    "Ha: The distribution of the youth unemployment rate in 2010 is not normal."
   ]
  },
  {
   "cell_type": "code",
   "execution_count": 18,
   "metadata": {},
   "outputs": [
    {
     "data": {
      "image/png": "[encoded data removed]",
      "text/plain": [
       "<Figure size 640x480 with 1 Axes>"
      ]
     },
     "metadata": {},
     "output_type": "display_data"
    }
   ],
   "source": [
    "import matplotlib.pyplot as plt\n",
    "\n",
    "# Create a histogram of the youth unemployment rate in 2010\n",
    "plt.hist(df['2010'])\n",
    "\n",
    "# Add a label to the x axis\n",
    "plt.xlabel('Youth Unemployment Rate in 2010')\n",
    "\n",
    "#Add a label to the y axis\n",
    "plt.ylabel(\"Number of Youths\")\n",
    "\n",
    "# Show the plot\n",
    "plt.show()\n"
   ]
  },
  {
   "attachments": {},
   "cell_type": "markdown",
   "metadata": {},
   "source": [
    "Comments:    \n",
    "The histogram helps us visualize the distribution of the youth unemployment rate in 2010.  \n",
    "If the histogram shows a normal distribution, we can conclude that the null hypothesis (H0) is true and the distribution is normal.  \n",
    "If the histogram does not show a normal distribution, we can conclude that the alternative hypothesis (Ha) is true and the distribution is not normal."
   ]
  },
  {
   "attachments": {},
   "cell_type": "markdown",
   "metadata": {},
   "source": [
    "#### 2.Box plot of the youth unemployment rate in different years:  \n",
    "H0: The median youth unemployment rate is equal for all years.  \n",
    "Ha: The median youth unemployment rate is not equal for all years.  "
   ]
  },
  {
   "cell_type": "code",
   "execution_count": 19,
   "metadata": {},
   "outputs": [
    {
     "data": {
      "image/png": "[encoded data removed]",
      "text/plain": [
       "<Figure size 640x480 with 1 Axes>"
      ]
     },
     "metadata": {},
     "output_type": "display_data"
    }
   ],
   "source": [
    "# Create a box plot of the youth unemployment rate in different years\n",
    "plt.boxplot([df['2010'], df['2011'], df['2012'], df['2013'], df['2014']])\n",
    "\n",
    "# Add labels to the x axis\n",
    "plt.xticks([1, 2, 3, 4, 5], ['2010', '2011', '2012', '2013', '2014'])\n",
    "\n",
    "# Show the plot\n",
    "plt.show()"
   ]
  },
  {
   "attachments": {},
   "cell_type": "markdown",
   "metadata": {},
   "source": [
    "Comments:  \n",
    "The box plot helps us compare the distribution of the youth unemployment rate in different years.  \n",
    "If the medians of the box plots are equal, we can conclude that the null hypothesis (H0) is true and the median youth unemployment rate is equal for all years.  \n",
    "If the medians of the box plots are not equal, we can conclude that the alternative hypothesis (Ha) is true and the median youth unemployment rate is not equal for all years."
   ]
  },
  {
   "attachments": {},
   "cell_type": "markdown",
   "metadata": {},
   "source": [
    "#### 3.Line chart of the youth unemployment rate in different countries:\n",
    "H0: The youth unemployment rate for different countries is not significantly different.  \n",
    "Ha: The youth unemployment rate for different countries is significantly different."
   ]
  },
  {
   "cell_type": "code",
   "execution_count": 27,
   "metadata": {},
   "outputs": [
    {
     "data": {
      "image/png": "[encoded data removed]",
      "text/plain": [
       "<Figure size 640x480 with 1 Axes>"
      ]
     },
     "metadata": {},
     "output_type": "display_data"
    }
   ],
   "source": [
    "# Plot the average youth unemployment rate for each year\n",
    "if 'Country Code' in df.columns:\n",
    "    average_unemployment_rates = df.mean(numeric_only=True)\n",
    "else:\n",
    "    average_unemployment_rates = df.mean()\n",
    "\n",
    "plt.plot(average_unemployment_rates, label='Average Youth Unemployment Rate')\n",
    "\n",
    "# Add a label to the x axis\n",
    "plt.xticks(range(len(average_unemployment_rates)), average_unemployment_rates.index)\n",
    "\n",
    "# Add a label to the y axis\n",
    "plt.ylabel('Youth Unemployment Rate')\n",
    "\n",
    "# Show the plot\n",
    "plt.show()\n",
    "\n"
   ]
  }
 ],
 "metadata": {
  "kernelspec": {
   "display_name": "Python 3",
   "language": "python",
   "name": "python3"
  },
  "language_info": {
   "codemirror_mode": {
    "name": "ipython",
    "version": 3
   },
   "file_extension": ".py",
   "mimetype": "text/x-python",
   "name": "python",
   "nbconvert_exporter": "python",
   "pygments_lexer": "ipython3",
   "version": "3.11.1"
  },
  "orig_nbformat": 4,
  "vscode": {
   "interpreter": {
    "hash": "b9a027f8faf2f068de4859f0deb8a8a1f6dee4bb99048a44183a6d4373f04a78"
   }
  }
 },
 "nbformat": 4,
 "nbformat_minor": 2
}
